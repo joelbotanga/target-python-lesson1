{
  "cells": [
    {
      "metadata": {
        "collapsed": true
      },
      "cell_type": "markdown",
      "source": "# Target 2019 Python Lesson - Part 1 \n---\nThis is a simple tutorial where most information presented is self-explanatory way. There are six small sections explaining the basics of Python (specially for version 3.6).\n\nThis guide was written for a Jupyter Notebook which is an interactive note taking app for code. As seen below, code sections are seperated off and can be run by clicking run (or selecting the content of the cell and with `ctrl` + `Enter` keys).\n\nPython is an interpreted language and you can start the interpreter to run the commands. There are multiple version of the Python interpreter, we will be using Python v3. Most of what you will learn will also work in Python v2.\n\n# 1: Think of Python as a Calculator\n\n### 1.1 Variables\n\nVariables store information. I can store the word \"cat\" in the variable named \"animal\". I use the actual text \"animal\" (variable name) in my code and refer the value \"cat\" which is what is stored in the computer's memory. There are quite a few types of variables such as numbers, letters, lists, etc. Each type of variable is called a Data Type."
    },
    {
      "metadata": {
        "trusted": false
      },
      "cell_type": "code",
      "source": "animal = \"cat\"",
      "execution_count": 3,
      "outputs": []
    },
    {
      "metadata": {
        "trusted": true
      },
      "cell_type": "code",
      "source": "my_name = \"Jim Terrance\"\nmy_age = 24\nheight = 5.7",
      "execution_count": 2,
      "outputs": []
    },
    {
      "metadata": {},
      "cell_type": "markdown",
      "source": "To access the information, type in a variable name and its information will appear"
    },
    {
      "metadata": {
        "scrolled": true,
        "trusted": true
      },
      "cell_type": "code",
      "source": "my_name",
      "execution_count": 22,
      "outputs": [
        {
          "output_type": "execute_result",
          "execution_count": 22,
          "data": {
            "text/plain": "'Jim Terrance'"
          },
          "metadata": {}
        }
      ]
    },
    {
      "metadata": {},
      "cell_type": "markdown",
      "source": "### **1.1.1 Data Types \n\nData types are classifications which tell the computer how your data is going to be used. There are six data types, and Python automatically assigns them to variables for you.\n\n\n`Numbers`: numeric values\n- int: 3, 5, 21000, -180\n- float: 6.3867, -8.579, 4.210, 8.01\n- complex: 8+4j, 9+2j, 121+5j\n    \n`Strings`: an ordered sequence of characters denoted by single or double quotes\n- \"Hello World\" \n- 'My name is Fernando'\n            \n\nThe following are also data types which you learn more about later: \n- `List`\n- `Tuple`\n- `Set`\n- `Dictionary` "
    },
    {
      "metadata": {},
      "cell_type": "markdown",
      "source": "How would the following be classified?\n\n- 'Fermilab'\n- 432.1\n- 87"
    },
    {
      "metadata": {},
      "cell_type": "markdown",
      "source": "### 1.2 Mathematical Operators\n\nPython can do simple math operations by default and you can define more complex ones. Some built in operators it includes are addition(`+`), subtraction(`-`), multiplication(`*`), division(`/`), modulus(`%`), exponent(`**`), and floor division(`//`). Python does follow PEMDAS. [Here](https://docs.python.org/3/reference/expressions.html#operator-precedence) you can find a full table with Python operator precedence. You can prioritize operations using parentheses.\n\n** Modulus (`%`) returns the remainder of a quotient "
    },
    {
      "metadata": {
        "trusted": true
      },
      "cell_type": "code",
      "source": "((3+2)**2)/0.1",
      "execution_count": 6,
      "outputs": [
        {
          "output_type": "execute_result",
          "execution_count": 6,
          "data": {
            "text/plain": "250.0"
          },
          "metadata": {}
        }
      ]
    },
    {
      "metadata": {},
      "cell_type": "markdown",
      "source": "As I had previously mentioned, what's nice about Python is that it will automatically assign the right data type to a variable. So, if we have an integer (i.e. 5), it will be an integer. If we have a fraction (i.e. 1/3), it will be a float. We can test this by using a function called `type` (don't worry about functions or classes just yet - just know that Python, unless overridden by the coder, will find the best data type possible),"
    },
    {
      "metadata": {
        "trusted": false
      },
      "cell_type": "code",
      "source": "type(5)",
      "execution_count": 7,
      "outputs": [
        {
          "data": {
            "text/plain": "int"
          },
          "execution_count": 7,
          "metadata": {},
          "output_type": "execute_result"
        }
      ]
    },
    {
      "metadata": {
        "trusted": false,
        "scrolled": true
      },
      "cell_type": "code",
      "source": "type(1/3)",
      "execution_count": 8,
      "outputs": [
        {
          "data": {
            "text/plain": "float"
          },
          "execution_count": 8,
          "metadata": {},
          "output_type": "execute_result"
        }
      ]
    },
    {
      "metadata": {},
      "cell_type": "markdown",
      "source": "### 1.3 Comparison Operators\n\nComparison operators are used in tests. Here, comparison operators are used to check the value on one side to the value on the other side. They result in either True or False.\n\nHere is a list:\n- `==` Equal to\n- `!=` Not equal to\n- `>` Greater than\n- `<` Less than\n- `>=` Greater than or equal to\n- `<=` Less than or equal to\n\n#### The Comparison Test"
    },
    {
      "metadata": {
        "trusted": true
      },
      "cell_type": "code",
      "source": "5 > 6",
      "execution_count": 1,
      "outputs": [
        {
          "output_type": "execute_result",
          "execution_count": 1,
          "data": {
            "text/plain": "False"
          },
          "metadata": {}
        }
      ]
    },
    {
      "metadata": {
        "trusted": true
      },
      "cell_type": "code",
      "source": "\"Hi\" == 'Hi'",
      "execution_count": 2,
      "outputs": [
        {
          "output_type": "execute_result",
          "execution_count": 2,
          "data": {
            "text/plain": "True"
          },
          "metadata": {}
        }
      ]
    },
    {
      "metadata": {
        "trusted": false
      },
      "cell_type": "code",
      "source": "5 != \"5\"",
      "execution_count": 11,
      "outputs": [
        {
          "data": {
            "text/plain": "True"
          },
          "execution_count": 11,
          "metadata": {},
          "output_type": "execute_result"
        }
      ]
    },
    {
      "metadata": {
        "trusted": false
      },
      "cell_type": "code",
      "source": "200>=180 #This will be True",
      "execution_count": 12,
      "outputs": [
        {
          "data": {
            "text/plain": "True"
          },
          "execution_count": 12,
          "metadata": {},
          "output_type": "execute_result"
        }
      ]
    },
    {
      "metadata": {},
      "cell_type": "markdown",
      "source": "Note: `#` is used for comments. A comment is a piece of text that will not be interpreted by the python interpretor (Python is going to skip over anything after the `#` character and go to the next line). This is a very useful tool when writing a large script. You can explain what you are doing right next to the actual code.\n\n### **1.4 Logical Operators\n\nLogical operators include `and`, `or`, and `not` and they are used exactly how you think they would. Remember, 0 means False and 1 (in reality anything different from 0) means True.\n\n\n`and`: if both conditions equal 1, or true, then it returns 1, or true. \n\n`or`: if one of the conditions equal 1, or true, then it returns 1, or true. \n\n`not`: takes the opposite of the condition"
    },
    {
      "metadata": {
        "trusted": true
      },
      "cell_type": "code",
      "source": "0 or 0",
      "execution_count": 1,
      "outputs": [
        {
          "output_type": "execute_result",
          "execution_count": 1,
          "data": {
            "text/plain": "0"
          },
          "metadata": {}
        }
      ]
    },
    {
      "metadata": {
        "scrolled": true,
        "trusted": true
      },
      "cell_type": "code",
      "source": "0 or 1",
      "execution_count": 7,
      "outputs": [
        {
          "output_type": "execute_result",
          "execution_count": 7,
          "data": {
            "text/plain": "1"
          },
          "metadata": {}
        }
      ]
    },
    {
      "metadata": {
        "trusted": true
      },
      "cell_type": "code",
      "source": "0 and 1",
      "execution_count": 5,
      "outputs": [
        {
          "output_type": "execute_result",
          "execution_count": 5,
          "data": {
            "text/plain": "0"
          },
          "metadata": {}
        }
      ]
    },
    {
      "metadata": {
        "trusted": false
      },
      "cell_type": "code",
      "source": "1 and 1",
      "execution_count": 16,
      "outputs": [
        {
          "data": {
            "text/plain": "1"
          },
          "execution_count": 16,
          "metadata": {},
          "output_type": "execute_result"
        }
      ]
    },
    {
      "metadata": {
        "trusted": false
      },
      "cell_type": "code",
      "source": "1 and not 0 # takes the opposite of 0",
      "execution_count": 17,
      "outputs": [
        {
          "data": {
            "text/plain": "True"
          },
          "execution_count": 17,
          "metadata": {},
          "output_type": "execute_result"
        }
      ]
    },
    {
      "metadata": {
        "trusted": true
      },
      "cell_type": "code",
      "source": "(3 == 2) or (3 == 3)",
      "execution_count": 4,
      "outputs": [
        {
          "output_type": "execute_result",
          "execution_count": 4,
          "data": {
            "text/plain": "True"
          },
          "metadata": {}
        }
      ]
    },
    {
      "metadata": {
        "trusted": false
      },
      "cell_type": "code",
      "source": "(\"hi\" == \"hi\") and (5 != 4)",
      "execution_count": 19,
      "outputs": [
        {
          "data": {
            "text/plain": "True"
          },
          "execution_count": 19,
          "metadata": {},
          "output_type": "execute_result"
        }
      ]
    },
    {
      "metadata": {
        "trusted": true
      },
      "cell_type": "code",
      "source": "not(3 == 3) # since, 3 does equal 3, it returns the opposite",
      "execution_count": 8,
      "outputs": [
        {
          "output_type": "execute_result",
          "execution_count": 8,
          "data": {
            "text/plain": "False"
          },
          "metadata": {}
        }
      ]
    },
    {
      "metadata": {},
      "cell_type": "markdown",
      "source": "### **Putting it all together\n\nLet's have Python solve this question,\n\n> We are throwing a baseball into the air. How high can we throw this baseball vertically into the air?\n>\n>\n> Consider the following:\n>\n> - Gravity pulls down the baseball at a constant acceleration of 9.8 meters per second squared\n> - Fast pitchers can typically throw a baseball at 100 miles per hour\n> - Let's say we throw the baseball at a quarter of that speed\n> - To convert from mph to m/s, multiply by 1.60934 / 3.6\n> - Our hand from throwing the ball is exactly 1.5 meters from the ground\n> - Let's simplify this problem with no other factors such as wind resistance\n> - Conservation of Energy: `Δmgh = ΔKE` (Δ = Final - Initial)\n>    - For this scenario: `mg(h_max - h_init) = -1/2 m v^2`\n>        - Simplifying: `h_max = h_init - 1/(2g)v^2`"
    },
    {
      "metadata": {
        "trusted": true
      },
      "cell_type": "markdown",
      "source": "First, define some variables that you know and will use in your final equation: "
    },
    {
      "metadata": {
        "trusted": true
      },
      "cell_type": "code",
      "source": "",
      "execution_count": 12,
      "outputs": []
    },
    {
      "metadata": {},
      "cell_type": "markdown",
      "source": "Can you think of an equation that uses the previously defined variables to solve for height? (hint: it's right there)"
    },
    {
      "metadata": {
        "trusted": true
      },
      "cell_type": "code",
      "source": "",
      "execution_count": null,
      "outputs": []
    },
    {
      "metadata": {},
      "cell_type": "markdown",
      "source": "# 2. Identifiers & Keywords\n\nWhen you are programming, you have to choose names for variables, functions, etc. and you are free to choose your own names as long as they start with a letter and cannot contain spaces. There are some names that have a special meaning to the Python language and you should not use them for your own variables. These are the Python keywords and here are just a few of them:\n\n- `and`\n- `or`\n- `if`\n- `while`\n- `global`\n- etc.\n\nYou can list them all with (we'll see later what import does, just use it for now):"
    },
    {
      "metadata": {
        "trusted": true
      },
      "cell_type": "code",
      "source": "import keyword\nkeyword.kwlist",
      "execution_count": 5,
      "outputs": [
        {
          "output_type": "execute_result",
          "execution_count": 5,
          "data": {
            "text/plain": "['False',\n 'None',\n 'True',\n 'and',\n 'as',\n 'assert',\n 'break',\n 'class',\n 'continue',\n 'def',\n 'del',\n 'elif',\n 'else',\n 'except',\n 'finally',\n 'for',\n 'from',\n 'global',\n 'if',\n 'import',\n 'in',\n 'is',\n 'lambda',\n 'nonlocal',\n 'not',\n 'or',\n 'pass',\n 'raise',\n 'return',\n 'try',\n 'while',\n 'with',\n 'yield']"
          },
          "metadata": {}
        }
      ]
    },
    {
      "metadata": {},
      "cell_type": "markdown",
      "source": "# 3. Functions\n\nSo far we have been writing statements (lines with instructions for the Python interpretor).\n\nFunctions in very simple terms are a way to do something over again at various points in your code without having to rewrite a block of code over and over again.  You write a block of code and you give it a name. Depending on what you want to do, you can also add parameters to your functions. Functions always return something.\n\nTo define a function, use `def`, a name for the function, and then (if you want) parameters. At the end of this line, make sure you use a colon (`:`). The following lines with contain the code. Take a look at this example for a better understanding,"
    },
    {
      "metadata": {
        "trusted": true
      },
      "cell_type": "code",
      "source": "def AddTwoNumbers(NumberVariable1, NumberVariable2):\n  TheSum = NumberVariable1 + NumberVariable2\n  return TheSum",
      "execution_count": 20,
      "outputs": []
    },
    {
      "metadata": {},
      "cell_type": "markdown",
      "source": "1. We have our function name `AddTwoNumbers`.\n2. We have some parameters - variables we are giving to our function so it can do something with them.\n3. We have the code of our function. This is a *block* of code. **The block is indented by 4 spaces (note: 4 spaces, not a tab)**. The code is the meat of our function, it takes in the parameters (if it has been given any) and works on whatever is there. At the end of the function, we need to send whatever we worked on back out using the `return` statement. In this case, it's the variable `TheResult`.\n\nOkay, we made our function, let's go ahead and call/run our function. We can then send whatever variable we get directly to the `print` statement so we can see it. Now, our Python notebook tries to figure out the best times to automatically print but running this alone will not print out our answer, so we'll force it to print to our screen."
    },
    {
      "metadata": {
        "trusted": true
      },
      "cell_type": "code",
      "source": "print(AddTwoNumbers(5, 9))",
      "execution_count": 22,
      "outputs": [
        {
          "output_type": "stream",
          "text": "14\n",
          "name": "stdout"
        }
      ]
    },
    {
      "metadata": {},
      "cell_type": "markdown",
      "source": "You can also assign the results of a function to a variable."
    },
    {
      "metadata": {
        "trusted": false
      },
      "cell_type": "code",
      "source": "my_var = AddTwoNumbers(10, 7)\nprint(my_var + 3)",
      "execution_count": 26,
      "outputs": [
        {
          "name": "stdout",
          "output_type": "stream",
          "text": "20\n"
        }
      ]
    },
    {
      "metadata": {},
      "cell_type": "markdown",
      "source": "Note: Variables used within the code of the functions (so, in this case `NumberVariable1`, `NumberVariable2`, and `TheResult`) are destroyed when the function is done running (so you can't access `TheResult` outside of the function unless you do some magical things with global scopes - don't worry about that for now... Just know when the function's done, your only getting what you returned at the end of it).\n\n# **4. Import\n\n** Python has libraries that make available to you many different functions and variables without you having to write them. To have access to a library, you need to import it. Many functions that you will need in your future programming efforts are already available in libraries that you can import and use. Below is an example,"
    },
    {
      "metadata": {
        "trusted": true
      },
      "cell_type": "code",
      "source": "# \"math\" is a standard library in python\nimport math\nimport random\n# Now, we can access the math library's functions\n# Say we wanted to get the value of Pi and print it out\n# We use a period \".\" after our library to let python know where we want it to get \"pi\" from\n\nprint(math.pi)",
      "execution_count": 23,
      "outputs": [
        {
          "output_type": "stream",
          "text": "3.141592653589793\n",
          "name": "stdout"
        }
      ]
    },
    {
      "metadata": {},
      "cell_type": "markdown",
      "source": "** To access functions from imported libraries, use the format: `library.FunctionName()`\n\nYou only need to import each library once. We can also use another function of the math library to get the greatest common divisor of two numbers or even get the factorial of a number,"
    },
    {
      "metadata": {
        "trusted": true
      },
      "cell_type": "code",
      "source": "print(math.gcd(9, 81)) #G reatest C ommon D ivisor",
      "execution_count": 17,
      "outputs": [
        {
          "output_type": "stream",
          "text": "9\n",
          "name": "stdout"
        }
      ]
    },
    {
      "metadata": {
        "trusted": false
      },
      "cell_type": "code",
      "source": "my_factorial = math.factorial(12)\nprint(my_factorial)\n#factorial is every number multiplied by 12 that comes after \n#12 x 11 x 10 x 9 x 8 ......",
      "execution_count": 29,
      "outputs": [
        {
          "name": "stdout",
          "output_type": "stream",
          "text": "479001600\n"
        }
      ]
    },
    {
      "metadata": {},
      "cell_type": "markdown",
      "source": "Here is one more example, this time using the `random` library "
    },
    {
      "metadata": {
        "trusted": true
      },
      "cell_type": "code",
      "source": "import random\n\nprint(random.random()) # Keep running this cell, see how the answer changes",
      "execution_count": 18,
      "outputs": [
        {
          "output_type": "stream",
          "text": "0.3006601535843033\n",
          "name": "stdout"
        }
      ]
    },
    {
      "metadata": {},
      "cell_type": "markdown",
      "source": "# 5. Lists\n\nLists are an example of a complex data structure. They are a sequence of variables. If you've programmed in other languages, they are sometimes called arrays. They're a way to store lots of variables in one big variable."
    },
    {
      "metadata": {
        "trusted": false
      },
      "cell_type": "code",
      "source": "food = ['apple', 'banana', 'pineapple']",
      "execution_count": 31,
      "outputs": []
    },
    {
      "metadata": {},
      "cell_type": "markdown",
      "source": "Lists have indexes (think of them like the order of the variables in the big variable). Indexes start from 0 and go up from there. So `apple` has an index of 0, `banana` has an index of 1, and so on. You can access the whole list, an element or slices, here are some examples:"
    },
    {
      "metadata": {
        "trusted": false
      },
      "cell_type": "code",
      "source": "food",
      "execution_count": 32,
      "outputs": [
        {
          "data": {
            "text/plain": "['apple', 'banana', 'pineapple']"
          },
          "execution_count": 32,
          "metadata": {},
          "output_type": "execute_result"
        }
      ]
    },
    {
      "metadata": {
        "trusted": false
      },
      "cell_type": "code",
      "source": "food[0]",
      "execution_count": 33,
      "outputs": [
        {
          "data": {
            "text/plain": "'apple'"
          },
          "execution_count": 33,
          "metadata": {},
          "output_type": "execute_result"
        }
      ]
    },
    {
      "metadata": {
        "trusted": false
      },
      "cell_type": "code",
      "source": "food[2]",
      "execution_count": 34,
      "outputs": [
        {
          "data": {
            "text/plain": "'pineapple'"
          },
          "execution_count": 34,
          "metadata": {},
          "output_type": "execute_result"
        }
      ]
    },
    {
      "metadata": {
        "trusted": false
      },
      "cell_type": "code",
      "source": "food[1:] # Start at index 1 and go up",
      "execution_count": 35,
      "outputs": [
        {
          "data": {
            "text/plain": "['banana', 'pineapple']"
          },
          "execution_count": 35,
          "metadata": {},
          "output_type": "execute_result"
        }
      ]
    },
    {
      "metadata": {
        "trusted": false
      },
      "cell_type": "code",
      "source": "food[:1] # Up to the first variable",
      "execution_count": 36,
      "outputs": [
        {
          "data": {
            "text/plain": "['apple']"
          },
          "execution_count": 36,
          "metadata": {},
          "output_type": "execute_result"
        }
      ]
    },
    {
      "metadata": {
        "trusted": true
      },
      "cell_type": "code",
      "source": "food = ['apple', 'banana', 'pineapple']\nfood[-3] # Go from the back and get the first variable",
      "execution_count": 25,
      "outputs": [
        {
          "output_type": "execute_result",
          "execution_count": 25,
          "data": {
            "text/plain": "'apple'"
          },
          "metadata": {}
        }
      ]
    },
    {
      "metadata": {},
      "cell_type": "markdown",
      "source": "Tip: Use a list to if you need to return a lot of variables in a function. You can only return once in a function.\n\n# 6. Flow Control\n\n### 6.1 If Statement\n\nThe if statement is very useful for running tests and doing actions based on those tests results. Here is an example of this in practice:"
    },
    {
      "metadata": {
        "trusted": true
      },
      "cell_type": "code",
      "source": "my_age = input(\"What is your age?\") # input is a statement that displays text & takes an input\nif float(my_age) >= 16:\n    print(\"You can drive with a license\")\nelif float(my_age) < 16:\n    print(\"You cannot drive\")\n\n    ",
      "execution_count": 33,
      "outputs": [
        {
          "output_type": "stream",
          "name": "stdout",
          "text": "What is your age?15.5\nYou cannot drive\n"
        }
      ]
    },
    {
      "metadata": {},
      "cell_type": "markdown",
      "source": "`elif` means that that if the first `if` statement was False, then try another if statement. If the first `if` statement was true, it wouldn't even go to the next `elif` statement."
    },
    {
      "metadata": {
        "scrolled": true,
        "trusted": true
      },
      "cell_type": "code",
      "source": "if float(my_age) <= 15:\n     print(\"You get a toy for your birthday\")\nelif float(my_age) >= 16:\n     print(\"You get a car for your birthday\")\nelse:\n     print(\"No party\")",
      "execution_count": 34,
      "outputs": [
        {
          "output_type": "stream",
          "text": "No party\n",
          "name": "stdout"
        }
      ]
    },
    {
      "metadata": {},
      "cell_type": "markdown",
      "source": "`else` means that if all the `if` and `elif` statements were false, then do this.\n\nAll the lines with `if`, `elif`, and `else` are followed by a block of code. Remember the four space indentation.\n\n### 6.2 Loops\n\nA loop is something that keeps happening until it is stopped.\n\n\n#### 6.2.1 While Loops\n\nA `while` loop is a loop that will continue until it's condition is false."
    },
    {
      "metadata": {
        "trusted": true
      },
      "cell_type": "code",
      "source": "x = 0\nwhile x < 10:\n    print(x)\n    x += 1 # This is a way of saying, x = x + 1",
      "execution_count": 16,
      "outputs": [
        {
          "output_type": "stream",
          "text": "0\n1\n2\n3\n4\n5\n6\n7\n8\n9\n",
          "name": "stdout"
        }
      ]
    },
    {
      "metadata": {},
      "cell_type": "markdown",
      "source": "See how it went from 0 to 9, not 10? When `x` was 10, the while condition became false.\n\n#### **6.2.2 For Loops\n\nA `for` loop iterates through a list and stores the information in a temporary variable. In other words, for loops can go through every object in a list and can perform a set of instructions for each object."
    },
    {
      "metadata": {
        "trusted": false
      },
      "cell_type": "code",
      "source": "MyList = ['cat', 'dog', 'mouse', 'rabbit']",
      "execution_count": 41,
      "outputs": []
    },
    {
      "metadata": {
        "trusted": false
      },
      "cell_type": "code",
      "source": "for TempVariable in MyList:\n     print(TempVariable)",
      "execution_count": 42,
      "outputs": [
        {
          "name": "stdout",
          "output_type": "stream",
          "text": "cat\ndog\nmouse\nrabbit\n"
        }
      ]
    },
    {
      "metadata": {},
      "cell_type": "markdown",
      "source": "\nOne last question: How can you write some Python to print the square of all even integers smaller than 10?\n\nSome notes to help: \n\n- When divided by 2, an even integer has a remainder of 0. (remember the modulus operator?) \n- to raise a number to an exponent, use: `number**exponent`\n- to have a for loop iterate through every integer up to certain integer, use: `for x in range(integer)`\n"
    },
    {
      "metadata": {
        "trusted": true
      },
      "cell_type": "code",
      "source": "",
      "execution_count": null,
      "outputs": []
    },
    {
      "metadata": {},
      "cell_type": "markdown",
      "source": "\n\n\n# Done with Lesson 1\n\nYou now know some basics of Python. Congrats, now how about putting that to the test? Now open the challenge and see if you can complete it.\n\n\n\n###### Author: Thomas Hein"
    },
    {
      "metadata": {},
      "cell_type": "markdown",
      "source": "## Solutions:"
    },
    {
      "metadata": {},
      "cell_type": "markdown",
      "source": "### Baseball: "
    },
    {
      "metadata": {
        "trusted": true
      },
      "cell_type": "code",
      "source": "g = -9.8 # Gravity\nv_mph = 100/4 # Our throwing speed\nv_meters = v_mph * 1.60934 / 3.6 # MPH to Meters per Second\nh_init = 1.5 # Initial height of ball\n# At max height, the speed is zero. (Aka the VERTEX of our porabola.) ",
      "execution_count": 27,
      "outputs": []
    },
    {
      "metadata": {
        "trusted": true
      },
      "cell_type": "code",
      "source": "h_max = h_init - 1/(2*g)*v_meters**2\nprint(\"The maximum height is: \", h_max, \"meters.\") ",
      "execution_count": 31,
      "outputs": [
        {
          "output_type": "stream",
          "text": "The maximum height is:  7.872569138361363 meters.\n",
          "name": "stdout"
        }
      ]
    },
    {
      "metadata": {},
      "cell_type": "markdown",
      "source": "### For Loop Even Integers: "
    },
    {
      "metadata": {
        "trusted": true
      },
      "cell_type": "code",
      "source": "print ([x**2 for x in range(10) if x%2== 0]) ",
      "execution_count": 29,
      "outputs": [
        {
          "output_type": "stream",
          "text": "[0, 4, 16, 36, 64]\n",
          "name": "stdout"
        }
      ]
    },
    {
      "metadata": {},
      "cell_type": "markdown",
      "source": "Note how this solution proposed combines lists, loops and conditions. It is called Python's **List Comprehension**."
    }
  ],
  "metadata": {
    "kernelspec": {
      "name": "python36",
      "display_name": "Python 3.6",
      "language": "python"
    },
    "language_info": {
      "mimetype": "text/x-python",
      "nbconvert_exporter": "python",
      "name": "python",
      "pygments_lexer": "ipython3",
      "version": "3.6.6",
      "file_extension": ".py",
      "codemirror_mode": {
        "version": 3,
        "name": "ipython"
      }
    }
  },
  "nbformat": 4,
  "nbformat_minor": 2
}